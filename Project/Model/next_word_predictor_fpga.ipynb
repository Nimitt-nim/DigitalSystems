{
 "cells": [
  {
   "cell_type": "code",
   "execution_count": 2,
   "metadata": {},
   "outputs": [],
   "source": [
    "import math"
   ]
  },
  {
   "cell_type": "code",
   "execution_count": 3,
   "metadata": {},
   "outputs": [],
   "source": [
    "input_size = 51\n",
    "hidden_size = 50\n",
    "block_size = 10"
   ]
  },
  {
   "cell_type": "code",
   "execution_count": 4,
   "metadata": {},
   "outputs": [],
   "source": [
    "itos = {0: ' ',\n",
    " 1: '&',\n",
    " 2: \"'\",\n",
    " 3: '(',\n",
    " 4: ')',\n",
    " 5: ',',\n",
    " 6: '-',\n",
    " 7: '.',\n",
    " 8: '/',\n",
    " 9: '0',\n",
    " 10: '1',\n",
    " 11: '2',\n",
    " 12: '3',\n",
    " 13: '4',\n",
    " 14: '5',\n",
    " 15: '6',\n",
    " 16: '7',\n",
    " 17: '8',\n",
    " 18: '9',\n",
    " 19: ':',\n",
    " 20: ';',\n",
    " 21: '[',\n",
    " 22: ']',\n",
    " 23: 'a',\n",
    " 24: 'b',\n",
    " 25: 'c',\n",
    " 26: 'd',\n",
    " 27: 'e',\n",
    " 28: 'f',\n",
    " 29: 'g',\n",
    " 30: 'h',\n",
    " 31: 'i',\n",
    " 32: 'j',\n",
    " 33: 'k',\n",
    " 34: 'l',\n",
    " 35: 'm',\n",
    " 36: 'n',\n",
    " 37: 'o',\n",
    " 38: 'p',\n",
    " 39: 'q',\n",
    " 40: 'r',\n",
    " 41: 's',\n",
    " 42: 't',\n",
    " 43: 'u',\n",
    " 44: 'v',\n",
    " 45: 'w',\n",
    " 46: 'x',\n",
    " 47: 'y',\n",
    " 48: 'z',\n",
    " 49: '|',\n",
    " 50: '~'}"
   ]
  },
  {
   "cell_type": "code",
   "execution_count": 5,
   "metadata": {},
   "outputs": [],
   "source": [
    "stoi = {' ': 0,\n",
    " '&': 1,\n",
    " \"'\": 2,\n",
    " '(': 3,\n",
    " ')': 4,\n",
    " ',': 5,\n",
    " '-': 6,\n",
    " '.': 7,\n",
    " '/': 8,\n",
    " '0': 9,\n",
    " '1': 10,\n",
    " '2': 11,\n",
    " '3': 12,\n",
    " '4': 13,\n",
    " '5': 14,\n",
    " '6': 15,\n",
    " '7': 16,\n",
    " '8': 17,\n",
    " '9': 18,\n",
    " ':': 19,\n",
    " ';': 20,\n",
    " '[': 21,\n",
    " ']': 22,\n",
    " 'a': 23,\n",
    " 'b': 24,\n",
    " 'c': 25,\n",
    " 'd': 26,\n",
    " 'e': 27,\n",
    " 'f': 28,\n",
    " 'g': 29,\n",
    " 'h': 30,\n",
    " 'i': 31,\n",
    " 'j': 32,\n",
    " 'k': 33,\n",
    " 'l': 34,\n",
    " 'm': 35,\n",
    " 'n': 36,\n",
    " 'o': 37,\n",
    " 'p': 38,\n",
    " 'q': 39,\n",
    " 'r': 40,\n",
    " 's': 41,\n",
    " 't': 42,\n",
    " 'u': 43,\n",
    " 'v': 44,\n",
    " 'w': 45,\n",
    " 'x': 46,\n",
    " 'y': 47,\n",
    " 'z': 48,\n",
    " '|': 49,\n",
    " '~': 50}"
   ]
  },
  {
   "cell_type": "code",
   "execution_count": 6,
   "metadata": {},
   "outputs": [],
   "source": [
    "with open(\"/Users/nimitt/Documents/DigitalSystems/Project/Model_States/parameters_10_50_5000.txt\",'r') as file: \n",
    "    params_data = file.read()"
   ]
  },
  {
   "cell_type": "code",
   "execution_count": 7,
   "metadata": {},
   "outputs": [],
   "source": [
    "params_data = params_data.split('\\n')"
   ]
  },
  {
   "cell_type": "code",
   "execution_count": 8,
   "metadata": {},
   "outputs": [],
   "source": [
    "parameters = {'wf':[],'bf':[],'wi':[],'bi':[],'wc':[],'bc':[],'wo':[],'bo':[],'wy':[],'by':[]}\n",
    "current_parameter = ''\n",
    "for i in range(3, len(params_data)):\n",
    "    if (params_data[i] == ''):\n",
    "        continue\n",
    "    if (params_data[i][:2] in parameters.keys()):\n",
    "        current_parameter = params_data[i][:2]\n",
    "        continue\n",
    "    parameters[current_parameter].append(list(map(float,params_data[i].split())))"
   ]
  },
  {
   "cell_type": "code",
   "execution_count": 9,
   "metadata": {},
   "outputs": [],
   "source": [
    "wf = parameters['wf']\n",
    "bf = parameters['bf']\n",
    "wi = parameters['wi']\n",
    "bi= parameters['bi']\n",
    "wc = parameters['wc']\n",
    "bc= parameters['bc']\n",
    "wo = parameters['wo']\n",
    "bo = parameters['bo']\n",
    "wy = parameters['wy']\n",
    "by= parameters['by']"
   ]
  },
  {
   "cell_type": "code",
   "execution_count": 10,
   "metadata": {},
   "outputs": [],
   "source": [
    "################# FPGA Forward ########################\n",
    "\n",
    "def one_hot_encode(char):\n",
    "    char_vector = [[0]]*input_size\n",
    "    char_vector[stoi[char]] = [1]\n",
    "    return char_vector\n",
    "\n",
    "def one_hot_encode_text(text):\n",
    "    text_mat = []\n",
    "    for char in text:\n",
    "        text_mat.append(one_hot_encode(char))\n",
    "    return text_mat\n",
    "\n",
    "def sigmoid(x):\n",
    "    if (x <= -5):\n",
    "        y = 0 \n",
    "    elif ( -5<x <= -2):\n",
    "        y = 0.0375*x + 0.194\n",
    "    elif (-2<x<= 2):\n",
    "        y =  0.190*x + 0.5\n",
    "    elif (2<x<= 5):\n",
    "        y =  0.0375*x + 0.805\n",
    "    else:\n",
    "        y = 1\n",
    "    return y\n",
    "\n",
    "\n",
    "def p_sigmoid(x):\n",
    "    y = [[0]]*len(x)\n",
    "    for i in range(len(x)):\n",
    "        y[i] = [1/(1+math.exp(-1*x[i][0]))]\n",
    "    # for i in range(len(x)):\n",
    "    #     y[i] = [sigmoid(x[i][0])]\n",
    "    return y\n",
    "\n",
    "def p_tanh(x):\n",
    "    y = [[0]]*len(x)\n",
    "\n",
    "    for i in range(len(x)):\n",
    "        y[i] = [(math.exp(x[i][0]) - math.exp(-1*x[i][0])) /(math.exp(x[i][0]) + math.exp(-1*x[i][0]))]\n",
    "    # for i in range(len(x)):\n",
    "    #     y[i] = [2*sigmoid(2*x[i][0]) - 1]\n",
    "    return y\n",
    "\n",
    "def matrix_into_vector(mat,vec):\n",
    "    d = len(vec)\n",
    "    m = len(mat[0])\n",
    "    assert(d==m)\n",
    "    n = len(mat)\n",
    "    out = [[0]]*n\n",
    "    for i in range(n):\n",
    "        sum = 0\n",
    "        for j in range(d):\n",
    "            sum+=mat[i][j]*vec[j][0]\n",
    "        out[i] = [sum]\n",
    "    \n",
    "    return out\n",
    "\n",
    "def vector_plus_vector(vec1,vec2):\n",
    "    for i in range(len(vec1)):\n",
    "            vec1[i] = [vec1[i][0] + vec2[i][0]]\n",
    "    return vec1\n",
    "\n",
    "def vector_into_vector(vec1,vec2):\n",
    "    out = [[0]]*len(vec1)\n",
    "    for i in range(len(vec1)):\n",
    "        out[i] = [vec1[i][0] * vec2[i][0]]\n",
    "    return out\n",
    "\n",
    "def forward( X):\n",
    "    outputs = []\n",
    "    seq_length = len(X)\n",
    "    hidden_state = [[0]]*hidden_size\n",
    "    cell_state = [[0]]*hidden_size\n",
    "\n",
    "    for q in range(seq_length):\n",
    "        concat_input = hidden_state + X[q]\n",
    "        forget_gate = p_sigmoid(vector_plus_vector(matrix_into_vector(wf, concat_input), bf))\n",
    "        input_gate = p_sigmoid(vector_plus_vector(matrix_into_vector(wi, concat_input), bi))\n",
    "        candidate_gate = p_tanh(vector_plus_vector(matrix_into_vector(wc, concat_input), bc))\n",
    "        output_gate = p_sigmoid(vector_plus_vector(matrix_into_vector(wo, concat_input), bo))\n",
    "        cell_state = vector_plus_vector(vector_into_vector(forget_gate, cell_state), vector_into_vector(input_gate, candidate_gate))\n",
    "        hidden_state = vector_into_vector(output_gate, p_tanh(cell_state))\n",
    "\n",
    "        output = vector_plus_vector(matrix_into_vector(wy, hidden_state), by)\n",
    "        outputs.append(output)\n",
    "    return outputs\n",
    "\n",
    "def one_hot_decode(y_hat):\n",
    "    generated_char = ''\n",
    "    max = 0\n",
    "    for j in range(input_size):\n",
    "        if y_hat[j][0] > y_hat[max][0]:\n",
    "            max = j\n",
    "    generated_char+=itos[max]\n",
    "\n",
    "    return generated_char\n",
    "\n"
   ]
  },
  {
   "cell_type": "code",
   "execution_count": 11,
   "metadata": {},
   "outputs": [
    {
     "name": "stdout",
     "output_type": "stream",
     "text": [
      "|affemint the industrial and emergences witho handh|\n"
     ]
    }
   ],
   "source": [
    "############################## Testing #############################\n",
    "prompt = 'this is '\n",
    "max_len = 50\n",
    "\n",
    "generated_text = '|'\n",
    "for i in range(max_len):\n",
    "    y_hat = forward(one_hot_encode_text(prompt))[-1]\n",
    "    generated_char = one_hot_decode(y_hat)\n",
    "    generated_text = generated_text + generated_char\n",
    "    prompt = prompt + generated_char\n",
    "generated_text+='|'\n",
    "print(generated_text)\n"
   ]
  },
  {
   "cell_type": "code",
   "execution_count": 12,
   "metadata": {},
   "outputs": [],
   "source": [
    "import struct"
   ]
  },
  {
   "cell_type": "code",
   "execution_count": 13,
   "metadata": {},
   "outputs": [],
   "source": [
    "################ converting parameters to 32bit IEEE 754 #####################\n",
    "def float_to_binary_IEEE754(f):\n",
    "    packed = struct.pack('>f', f)\n",
    "    binary = ''.join(format(byte, '08b') for byte in packed)\n",
    "    \n",
    "    return binary"
   ]
  },
  {
   "cell_type": "code",
   "execution_count": 14,
   "metadata": {},
   "outputs": [],
   "source": [
    "parameters = [wf,bf,wi,bi,wo,bo,wc,bc,wy,by]\n",
    "parameters_flatted = []\n",
    "for parameter in parameters:\n",
    "    for i in range(len(parameter)):\n",
    "        for j in range(len(parameter[0])):\n",
    "            parameters_flatted.append(float_to_binary_IEEE754(parameter[i][j]))\n"
   ]
  },
  {
   "cell_type": "code",
   "execution_count": 15,
   "metadata": {},
   "outputs": [
    {
     "data": {
      "text/plain": [
       "23001"
      ]
     },
     "execution_count": 15,
     "metadata": {},
     "output_type": "execute_result"
    }
   ],
   "source": [
    "len(parameters_flatted)"
   ]
  },
  {
   "cell_type": "code",
   "execution_count": 19,
   "metadata": {},
   "outputs": [],
   "source": [
    "with open(\"/Users/nimitt/Documents/DigitalSystems/Project/Model_States/parameters_10_50_5000_ieee.txt\",'w') as file:\n",
    "    for i in range(len(parameters_flatted)):\n",
    "        file.write(parameters_flatted[i])\n",
    "        file.write(\",\")\n",
    "        file.write('\\n')"
   ]
  }
 ],
 "metadata": {
  "kernelspec": {
   "display_name": "Python 3",
   "language": "python",
   "name": "python3"
  },
  "language_info": {
   "codemirror_mode": {
    "name": "ipython",
    "version": 3
   },
   "file_extension": ".py",
   "mimetype": "text/x-python",
   "name": "python",
   "nbconvert_exporter": "python",
   "pygments_lexer": "ipython3",
   "version": "3.11.1"
  },
  "orig_nbformat": 4,
  "vscode": {
   "interpreter": {
    "hash": "aee8b7b246df8f9039afb4144a1f6fd8d2ca17a180786b69acc140d282b71a49"
   }
  }
 },
 "nbformat": 4,
 "nbformat_minor": 2
}
