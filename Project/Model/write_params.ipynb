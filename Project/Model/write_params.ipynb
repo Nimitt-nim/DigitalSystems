{
 "cells": [
  {
   "cell_type": "code",
   "execution_count": null,
   "metadata": {},
   "outputs": [],
   "source": [
    "model_read = LSTM(input_size+hidden_size, hidden_size, input_size)\n",
    "opt = optim.Adam(model.parameters(), lr=0.01)\n",
    "model_path = \"/Users/nimitt/Documents/DigitalSystems/Project/Model_States/model_10_50_5000.pt\"\n",
    "checkpoint = torch.load(model_path,map_location=torch.device('cpu'))\n",
    "model_read.load_state_dict(checkpoint['model_state_dict'])\n",
    "opt.load_state_dict(checkpoint['optimizer_state_dict'])"
   ]
  },
  {
   "cell_type": "code",
   "execution_count": null,
   "metadata": {},
   "outputs": [],
   "source": [
    "parameter_list = [model_read.wf, \n",
    "model_read.bf,\n",
    "model_read.wi, \n",
    "model_read.bi,\n",
    "model_read.wc, \n",
    "model_read.bc,\n",
    "model_read.wo, \n",
    "model_read.bo, \n",
    "model_read.wy, \n",
    "model_read.by]\n",
    "\n",
    "parameter_names = ['wf','bf','wi','bi','wc','bc','wo','bo','wy','by']"
   ]
  },
  {
   "cell_type": "code",
   "execution_count": null,
   "metadata": {},
   "outputs": [],
   "source": [
    "import numpy as np\n",
    "\n",
    "parameter_list = [model_read.wf, model_read.bf, model_read.wi, model_read.bi, model_read.wc,\n",
    "                  model_read.bc, model_read.wo, model_read.bo, model_read.wy, model_read.by]\n",
    "\n",
    "parameter_names = ['wf', 'bf', 'wi', 'bi', 'wc', 'bc', 'wo', 'bo', 'wy', 'by']\n",
    "\n",
    "with open(\"/Users/nimitt/Documents/DigitalSystems/Project/Model_States/parameters_10_50.txt\", 'w') as file:\n",
    "    file.write(\"Model Parameters\\n\")\n",
    "    file.write(\"================\\n\\n\")\n",
    "    for name, parameter in zip(parameter_names, parameter_list):\n",
    "        file.write(name + \":\\n\")\n",
    "        # Convert tensor to NumPy array\n",
    "        parameter_array = parameter.detach().numpy()\n",
    "        # Write each value of the parameter tensor to the file\n",
    "        for row in parameter_array:\n",
    "            row_str = \" \".join([str(val) for val in row])\n",
    "            file.write(row_str + \"\\n\")\n",
    "        file.write(\"\\n\")\n",
    "\n"
   ]
  }
 ],
 "metadata": {
  "kernelspec": {
   "display_name": "Python 3",
   "language": "python",
   "name": "python3"
  },
  "language_info": {
   "name": "python",
   "version": "3.11.1 (v3.11.1:a7a450f84a, Dec  6 2022, 15:24:06) [Clang 13.0.0 (clang-1300.0.29.30)]"
  },
  "orig_nbformat": 4,
  "vscode": {
   "interpreter": {
    "hash": "aee8b7b246df8f9039afb4144a1f6fd8d2ca17a180786b69acc140d282b71a49"
   }
  }
 },
 "nbformat": 4,
 "nbformat_minor": 2
}
