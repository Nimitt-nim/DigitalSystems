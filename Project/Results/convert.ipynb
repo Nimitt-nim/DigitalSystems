{
 "cells": [
  {
   "cell_type": "code",
   "execution_count": null,
   "metadata": {},
   "outputs": [],
   "source": [
    "############## Converting the FPGA output to next character #################"
   ]
  },
  {
   "cell_type": "code",
   "execution_count": 1,
   "metadata": {},
   "outputs": [],
   "source": [
    "def binary_to_float(binary_string):\n",
    "    # Convert binary string to floating point number\n",
    "    sign = int(binary_string[0])\n",
    "    exponent = int(binary_string[1:9], 2)\n",
    "    fraction = int(binary_string[9:], 2)\n",
    "\n",
    "    # Convert to IEEE 754 floating point format\n",
    "    sign_bit = -1 if sign == 1 else 1\n",
    "    exponent_value = exponent - 127\n",
    "    fraction_value = 1 + fraction / (2 ** 23)\n",
    "\n",
    "    # Calculate the final floating point number\n",
    "    return sign_bit * fraction_value * (2 ** exponent_value)"
   ]
  },
  {
   "cell_type": "code",
   "execution_count": 2,
   "metadata": {},
   "outputs": [],
   "source": [
    "inp=\"111101100111110000000010100111011111111000000011100000011100101011100011000100000000001100000001110101011011101010100011101100110111100111010001010000010111111111101001011001101000011010110010011110111001010001100000101100000101111010011000100110011011101111101001001011100001111110000100011000111110100110101000011101000110001101100001111100011000000101100000000011110110101000000011011010011001001010101000000110001110101011101010011111010010000011111110010011100010000111110001011111001001100111011001111101001111100001110001010000000011010001110100000011010000111111000100111101111110100101101001111011010111111001001111001100111101110011011011000010010011011011001100111011001101010101011110010001010110010101100000100100010110101001100100000010111111111010000100111100110101111100011101101110111101011101101111100111101001010001111000010010110101000001100000\""
   ]
  },
  {
   "cell_type": "code",
   "execution_count": 3,
   "metadata": {},
   "outputs": [],
   "source": [
    "li=[]"
   ]
  },
  {
   "cell_type": "code",
   "execution_count": 4,
   "metadata": {},
   "outputs": [],
   "source": [
    "for i in range(27):\n",
    "    li.append(binary_to_float(inp[i*32:(i+1)*32]))"
   ]
  },
  {
   "cell_type": "code",
   "execution_count": 5,
   "metadata": {},
   "outputs": [
    {
     "name": "stdout",
     "output_type": "stream",
     "text": [
      "19\n"
     ]
    }
   ],
   "source": [
    "import numpy as np\n",
    "print(np.argmax(np.array(li)))"
   ]
  },
  {
   "cell_type": "code",
   "execution_count": null,
   "metadata": {},
   "outputs": [],
   "source": [
    "itos = {0: '1',\n",
    " 1: '2',\n",
    " 2: '3',\n",
    " 3: '5',\n",
    " 4: 'a',\n",
    " 5: 'b',\n",
    " 6: 'c',\n",
    " 7: 'd',\n",
    " 8: 'e',\n",
    " 9: 'f',\n",
    " 10: 'g',\n",
    " 11: 'h',\n",
    " 12: 'i',\n",
    " 13: 'k',\n",
    " 14: 'l',\n",
    " 15: 'm',\n",
    " 16: 'n',\n",
    " 17: 'o',\n",
    " 18: 'p',\n",
    " 19: 'r',\n",
    " 20: 's',\n",
    " 21: 't',\n",
    " 22: 'u',\n",
    " 23: 'v',\n",
    " 24: 'w',\n",
    " 25: 'y',\n",
    " 26: '~'}"
   ]
  },
  {
   "cell_type": "code",
   "execution_count": null,
   "metadata": {},
   "outputs": [],
   "source": [
    "### Prediction for iitg : r \n",
    "### we get same result as we got on computer."
   ]
  }
 ],
 "metadata": {
  "kernelspec": {
   "display_name": "Python 3",
   "language": "python",
   "name": "python3"
  },
  "language_info": {
   "codemirror_mode": {
    "name": "ipython",
    "version": 3
   },
   "file_extension": ".py",
   "mimetype": "text/x-python",
   "name": "python",
   "nbconvert_exporter": "python",
   "pygments_lexer": "ipython3",
   "version": "3.11.1"
  },
  "vscode": {
   "interpreter": {
    "hash": "aee8b7b246df8f9039afb4144a1f6fd8d2ca17a180786b69acc140d282b71a49"
   }
  }
 },
 "nbformat": 4,
 "nbformat_minor": 2
}
